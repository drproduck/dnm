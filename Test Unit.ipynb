{
 "cells": [
  {
   "cell_type": "code",
   "execution_count": 1,
   "metadata": {},
   "outputs": [],
   "source": [
    "from ddcrp_mdnd.network_model import *\n",
    "from ddcrp_mdnd.my_util import *\n",
    "from ddcrp_mdnd.helper import *\n",
    "import networkx as nx"
   ]
  },
  {
   "cell_type": "code",
   "execution_count": 2,
   "metadata": {},
   "outputs": [
    {
     "name": "stdout",
     "output_type": "stream",
     "text": [
      "clusters: [0 0 0 1 1 1]\n",
      "{0, 1}\n",
      "Counter({0: 2, 1: 1})\n",
      "Counter({4: 1, 3: 1, 0: 1})\n",
      "Counter({2: 2, 3: 1})\n",
      "Counter({0: 1, 1: 1, 2: 1})\n",
      "[[0. 0. 0. 0. 0. 0.]\n",
      " [0. 0. 0. 0. 0. 0.]\n",
      " [0. 0. 0. 0. 0. 0.]\n",
      " [0. 0. 0. 0. 0. 0.]\n",
      " [0. 0. 0. 0. 0. 0.]\n",
      " [0. 0. 0. 0. 0. 0.]]\n"
     ]
    }
   ],
   "source": [
    "decay_fn = identity_decay()\n",
    "distance = linear_distance\n",
    "alpha = 1\n",
    "gamma = 1\n",
    "tau = 4\n",
    "X_train = np.array([[0, 0, 1, 2, 3, 2], [4, 3, 0, 0, 1, 2]]).reshape((6,2))\n",
    "X_train = np.array([[0,4],[0,3],[1,0],[2,0],[3,1],[2,2]])\n",
    "init = np.array([2,0,1,3,5,3])\n",
    "params = Params(alpha, gamma, tau, sample_params=False, Ztrain=X_train)\n",
    "model = Model(X_train, distance, decay_fn, params, init=init)\n",
    "print(model.prior)\n",
    "# for edge in range(model.num_edges):\n",
    "#     linked_edges = model.remove_link(edge, params)\n",
    "#     model.sample_link_collapsed(edge, params, linked_edges)\n",
    "#     print(model.cluster_of_edge.tolist())\n",
    "#     model.sample_beta()"
   ]
  },
  {
   "cell_type": "code",
   "execution_count": 3,
   "metadata": {},
   "outputs": [
    {
     "name": "stdout",
     "output_type": "stream",
     "text": [
      "[4, 2, 3, 2, 1]\n",
      "[0.17077638 0.26549216 0.20953717 0.13474671 0.21707675 0.00237084]\n",
      "[0.4 0.2 0.1 0.1 0.1 0.1]\n",
      "1.0\n"
     ]
    }
   ],
   "source": [
    "model.sample_beta()\n",
    "print(model.tables) # [4,2,3,2,1]\n",
    "print(model.beta)\n",
    "\n",
    "model.beta = np.array([0.4,0.2,0.1,0.1,0.1,0.1]) # for testing\n",
    "print(model.beta)\n",
    "print(model.beta.sum())"
   ]
  },
  {
   "cell_type": "code",
   "execution_count": 4,
   "metadata": {},
   "outputs": [
    {
     "name": "stdout",
     "output_type": "stream",
     "text": [
      "Counter({0: 2, 1: 1})\n",
      "Counter({4: 1, 3: 1, 0: 1})\n",
      "Counter({2: 2, 3: 1})\n",
      "Counter({0: 1, 1: 1, 2: 1})\n",
      "[-3.58512022 -6.28360097  0.          0.          0.          0.        ]\n",
      "[-6.15006958 -5.4569224   0.          0.          0.          0.        ]\n"
     ]
    }
   ],
   "source": [
    "model.compute_llhood()\n",
    "print(model.source_llhood) # [-3.5851, -6.2836]\n",
    "print(model.sink_llhood) # [-6.1501, -5.4569]"
   ]
  },
  {
   "cell_type": "code",
   "execution_count": 5,
   "metadata": {},
   "outputs": [
    {
     "name": "stdout",
     "output_type": "stream",
     "text": [
      "Counter({2: 2})\n",
      "Counter({0: 1, 2: 1})\n",
      "Counter({3: 1})\n",
      "Counter({1: 1})\n",
      "[{0, 1, 2}, {3, 5}, {4}]\n",
      "{0, 4, 5}\n",
      "[-3.58512022 -6.28360097  0.          0.         -2.30258509 -3.57555077]\n",
      "[-6.15006958 -5.4569224   0.          0.         -1.60943791 -3.44201938]\n",
      "[ -9.7351898  -11.74052337   0.           0.          -3.91202301\n",
      "  -7.01757014]\n"
     ]
    }
   ],
   "source": [
    "\n",
    "# relink edge 4 to 2\n",
    "linked_edges = model.remove_link(4, params) #{0:[0,1,2],1:[3,5],2:[4]}\n",
    "print(list(nx.connected_components(model.graph)))\n",
    "print(model.unique_clusters)\n",
    "print(model.source_llhood) # [-3.5851,-3.5756, -2.3026]\n",
    "print(model.sink_llhood) # [-6.1501, -3.4420, -1.6094] \n",
    "print(model.cluster_llhood)"
   ]
  },
  {
   "cell_type": "code",
   "execution_count": 6,
   "metadata": {},
   "outputs": [
    {
     "name": "stdout",
     "output_type": "stream",
     "text": [
      "Counter({0: 2, 1: 1, 3: 1})\n",
      "Counter({4: 1, 3: 1, 0: 1, 1: 1})\n",
      "Counter({2: 2, 3: 1})\n",
      "Counter({0: 1, 2: 1, 1: 1})\n",
      "[{0, 1, 2, 4}, {3, 5}]\n",
      "{0, 5}\n",
      "[-6.4473211  -6.28360097  0.          0.         -2.30258509 -3.57555077]\n",
      "[-8.31912328 -5.4569224   0.          0.         -1.60943791 -3.44201938]\n",
      "[-14.76644438 -11.74052337   0.           0.          -3.91202301\n",
      "  -7.01757014]\n"
     ]
    }
   ],
   "source": [
    "model.sample_link_collapsed(4, params, linked_edges, test_chosen=2)\n",
    "print(list(nx.connected_components(model.graph)))\n",
    "print(model.unique_clusters)\n",
    "print(model.source_llhood) # [-6.4473, -3.5756]\n",
    "print(model.sink_llhood) # [-8.3191, -3.4420] \n",
    "print(model.cluster_llhood)"
   ]
  }
 ],
 "metadata": {
  "kernelspec": {
   "display_name": "Python 3",
   "language": "python",
   "name": "python3"
  },
  "language_info": {
   "codemirror_mode": {
    "name": "ipython",
    "version": 3
   },
   "file_extension": ".py",
   "mimetype": "text/x-python",
   "name": "python",
   "nbconvert_exporter": "python",
   "pygments_lexer": "ipython3",
   "version": "3.6.5"
  }
 },
 "nbformat": 4,
 "nbformat_minor": 2
}
