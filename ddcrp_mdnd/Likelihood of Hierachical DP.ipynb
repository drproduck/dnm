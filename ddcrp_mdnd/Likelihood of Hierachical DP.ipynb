{
 "cells": [
  {
   "cell_type": "code",
   "execution_count": 2,
   "metadata": {},
   "outputs": [],
   "source": [
    "import numpy as np\n",
    "from collections import Counter"
   ]
  },
  {
   "cell_type": "code",
   "execution_count": 109,
   "metadata": {},
   "outputs": [
    {
     "name": "stdout",
     "output_type": "stream",
     "text": [
      "[4 3 5 2 1]\n"
     ]
    },
    {
     "data": {
      "text/plain": [
       "-12.589976981711247"
      ]
     },
     "execution_count": 109,
     "metadata": {},
     "output_type": "execute_result"
    }
   ],
   "source": [
    "alpha = 0.1\n",
    "current_different_atoms = 0\n",
    "count = Counter()\n",
    "# x = np.array([1,5,5,5,5])\n",
    "x = np.array([1,2,3,4,5])\n",
    "np.random.shuffle(x)\n",
    "print(x)\n",
    "n = len(x)\n",
    "lhood = 0\n",
    "for i in range(n):\n",
    "    if x[i] not in count:\n",
    "        lhood += np.log(alpha) - np.log(alpha + i)\n",
    "    else:\n",
    "        lhood += np.log(count[x[i]]) - np.log(alpha + i)\n",
    "    count[x[i]] += 1\n",
    "lhood"
   ]
  },
  {
   "cell_type": "code",
   "execution_count": 155,
   "metadata": {},
   "outputs": [
    {
     "name": "stdout",
     "output_type": "stream",
     "text": [
      "(array([5. , 5. , 0.5]), 10)\n"
     ]
    }
   ],
   "source": [
    "def sample_beta(msender, mreceiver, num_vertices, K, params):\n",
    "    tables = np.zeros(num_vertices+1)\n",
    "    num_tables = 0\n",
    "    for cluster in range(K):\n",
    "        for vertex in range(num_vertices):\n",
    "            if msender[cluster][vertex]==1:\n",
    "                tables[vertex]+=1\n",
    "                num_tables+=1\n",
    "            elif msender[cluster][vertex]>1:\n",
    "                tmp= partitionCRP(params.alpha, msender[cluster][vertex])\n",
    "                num_tables+=tmp\n",
    "                tables[vertex]+=tmp\n",
    "            if mreceiver[cluster][vertex]==1:\n",
    "                tables[vertex]+=1\n",
    "                num_tables+=1\n",
    "            elif mreceiver[cluster][vertex]>1:\n",
    "                tmp = partitionCRP(params.alpha, mreceiver[cluster][vertex])\n",
    "                num_tables +=tmp\n",
    "                tables[vertex]+=tmp\n",
    "\n",
    "    tables[num_vertices] = params.gamma\n",
    "    return tables, num_tables\n",
    "\n",
    "#     tables[num_vertices] = params.gamma\n",
    "#     beta = np.random.dirichlet(tables)\n",
    "#     if any(beta==0):\n",
    "#         raise Warning('something might be wrong')\n",
    "#     return beta\n",
    "\n",
    "def partitionCRP(alpha, N):\n",
    "    K=0\n",
    "\n",
    "    for iter in range(int(N)):\n",
    "        r = np.random.rand()\n",
    "        p = alpha/(alpha+iter)\n",
    "        if r<p:\n",
    "            K+=1\n",
    "\n",
    "    return K\n",
    "\n",
    "class Params():\n",
    "    def __init__(self, alpha=0.5, gamma=0.5):\n",
    "        self.alpha = alpha\n",
    "        self.gamma = gamma\n",
    "        \n",
    "params = Params()\n",
    "msender = np.array([[1,2],[2,3]])\n",
    "mreceiver = np.array([[1,3],[2,4]])\n",
    "print(sample_beta(msender, mreceiver, 2, 2, params))\n"
   ]
  },
  {
   "cell_type": "code",
   "execution_count": 182,
   "metadata": {},
   "outputs": [
    {
     "ename": "TypeError",
     "evalue": "unsupported operand type(s) for +=: 'set' and 'set'",
     "traceback": [
      "\u001b[0;31m---------------------------------------------------------------------------\u001b[0m",
      "\u001b[0;31mTypeError\u001b[0m                                 Traceback (most recent call last)",
      "\u001b[0;32m<ipython-input-182-720a6faf1f4e>\u001b[0m in \u001b[0;36m<module>\u001b[0;34m()\u001b[0m\n\u001b[1;32m      1\u001b[0m \u001b[0ma\u001b[0m \u001b[0;34m=\u001b[0m \u001b[0mset\u001b[0m\u001b[0;34m(\u001b[0m\u001b[0;34m[\u001b[0m\u001b[0;36m1\u001b[0m\u001b[0;34m,\u001b[0m\u001b[0;36m2\u001b[0m\u001b[0;34m,\u001b[0m\u001b[0;36m3\u001b[0m\u001b[0;34m]\u001b[0m\u001b[0;34m)\u001b[0m\u001b[0;34m\u001b[0m\u001b[0m\n\u001b[0;32m----> 2\u001b[0;31m \u001b[0ma\u001b[0m \u001b[0;34m+=\u001b[0m \u001b[0;34m{\u001b[0m\u001b[0;36m1\u001b[0m\u001b[0;34m}\u001b[0m\u001b[0;34m\u001b[0m\u001b[0m\n\u001b[0m\u001b[1;32m      3\u001b[0m \u001b[0mprint\u001b[0m\u001b[0;34m(\u001b[0m\u001b[0ma\u001b[0m\u001b[0;34m)\u001b[0m\u001b[0;34m\u001b[0m\u001b[0m\n",
      "\u001b[0;31mTypeError\u001b[0m: unsupported operand type(s) for +=: 'set' and 'set'"
     ],
     "output_type": "error"
    }
   ],
   "source": [
    "a = set([1,2,3])\n",
    "a += {1}\n",
    "print(a)"
   ]
  },
  {
   "cell_type": "code",
   "execution_count": 172,
   "metadata": {},
   "outputs": [
    {
     "data": {
      "text/plain": [
       "array([1, 3, 3, 4])"
      ]
     },
     "execution_count": 172,
     "metadata": {},
     "output_type": "execute_result"
    }
   ],
   "source": [
    "a = np.array([[1,2],[3,4]])\n",
    "a = a[:,0]\n",
    "b = np.array([3,4])\n",
    "np.concatenate((a,b), axis=0)"
   ]
  }
 ],
 "metadata": {
  "kernelspec": {
   "display_name": "Python 3",
   "language": "python",
   "name": "python3"
  },
  "language_info": {
   "codemirror_mode": {
    "name": "ipython",
    "version": 3
   },
   "file_extension": ".py",
   "mimetype": "text/x-python",
   "name": "python",
   "nbconvert_exporter": "python",
   "pygments_lexer": "ipython3",
   "version": "3.6.5"
  }
 },
 "nbformat": 4,
 "nbformat_minor": 2
}
