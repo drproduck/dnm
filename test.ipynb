{
 "cells": [
  {
   "cell_type": "code",
   "execution_count": 3,
   "metadata": {},
   "outputs": [
    {
     "data": {
      "image/png": "[encoded data removed]",
      "text/plain": [
       "<Figure size 432x288 with 1 Axes>"
      ]
     },
     "metadata": {},
     "output_type": "display_data"
    }
   ],
   "source": [
    "from Process import StickBreakingProcess\n",
    "import matplotlib.pyplot as plt\n",
    "dp = StickBreakingProcess(alpha=10)\n",
    "sample = dp.sample(100)\n",
    "plt.hist(sample)\n",
    "plt.show()"
   ]
  },
  {
   "cell_type": "code",
   "execution_count": 6,
   "metadata": {},
   "outputs": [],
   "source": [
    "from matplotlib import pyplot as plt\n",
    "import numpy as np\n",
    "import pymc3 as pm\n",
    "import scipy as sp\n",
    "import seaborn as sns\n",
    "from theano import tensor as tt\n",
    "import pandas as pd"
   ]
  },
  {
   "cell_type": "code",
   "execution_count": null,
   "metadata": {},
   "outputs": [
    {
     "name": "stderr",
     "output_type": "stream",
     "text": [
      "Auto-assigning NUTS sampler...\n",
      "Initializing NUTS using jitter+adapt_diag...\n",
      "Multiprocess sampling (2 chains in 2 jobs)\n",
      "NUTS: [mu, lambda_interval__, tau_log__, beta_logodds__, alpha_log__]\n"
     ]
    }
   ],
   "source": [
    "SEED = 5132290 # from random.org\n",
    "\n",
    "np.random.seed(SEED)\n",
    "old_faithful_df = pd.read_csv(pm.get_data('old_faithful.csv'))\n",
    "old_faithful_df['std_waiting'] = (old_faithful_df.waiting - old_faithful_df.waiting.mean()) / old_faithful_df.waiting.std()\n",
    "\n",
    "N = old_faithful_df.shape[0]\n",
    "\n",
    "K = 30\n",
    "\n",
    "def stick_breaking(beta):\n",
    "    portion_remaining = tt.concatenate([[1], tt.extra_ops.cumprod(1 - beta)[:-1]])\n",
    "\n",
    "    return beta * portion_remaining\n",
    "\n",
    "with pm.Model() as model:\n",
    "    alpha = pm.Gamma('alpha', 1., 1.)\n",
    "    beta = pm.Beta('beta', 1., alpha, shape=K)\n",
    "    w = pm.Deterministic('w', stick_breaking(beta))\n",
    "\n",
    "    tau = pm.Gamma('tau', 1., 1., shape=K)\n",
    "    lambda_ = pm.Uniform('lambda', 0, 5, shape=K)\n",
    "    mu = pm.Normal('mu', 0, tau=lambda_ * tau, shape=K)\n",
    "    obs = pm.NormalMixture('obs', w, mu, tau=lambda_ * tau,\n",
    "                           observed=old_faithful_df.std_waiting.values)\n",
    "\n",
    "with model:\n",
    "    trace = pm.sample(1000, random_seed=SEED)\n"
   ]
  }
 ],
 "metadata": {
  "kernelspec": {
   "display_name": "Python 3",
   "language": "python",
   "name": "python3"
  },
  "language_info": {
   "codemirror_mode": {
    "name": "ipython",
    "version": 3
   },
   "file_extension": ".py",
   "mimetype": "text/x-python",
   "name": "python",
   "nbconvert_exporter": "python",
   "pygments_lexer": "ipython3",
   "version": "3.6.5"
  }
 },
 "nbformat": 4,
 "nbformat_minor": 2
}
