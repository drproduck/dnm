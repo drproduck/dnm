{
 "cells": [
  {
   "cell_type": "code",
   "execution_count": 4,
   "metadata": {},
   "outputs": [],
   "source": [
    "import matplotlib.pyplot as plt\n",
    "from numpy.random import *\n",
    "import numpy as np\n",
    "import math\n",
    "from mpl_toolkits.mplot3d import Axes3D\n",
    "import matplotlib.mlab as mlab\n",
    "from Process import *"
   ]
  },
  {
   "cell_type": "code",
   "execution_count": 2,
   "metadata": {},
   "outputs": [],
   "source": [
    "class RandomVar:\n",
    "    \n",
    "    def mean():\n",
    "        pass\n",
    "    def sample():\n",
    "        pass"
   ]
  },
  {
   "cell_type": "markdown",
   "metadata": {},
   "source": [
    "## Chines restaurant process (for when base dist is uniform in N?)"
   ]
  },
  {
   "cell_type": "code",
   "execution_count": null,
   "metadata": {
    "scrolled": false
   },
   "outputs": [
    {
     "data": {
      "image/png": "[encoded data removed]",
      "text/plain": [
       "<Figure size 432x288 with 1 Axes>"
      ]
     },
     "metadata": {},
     "output_type": "display_data"
    },
    {
     "name": "stdout",
     "output_type": "stream",
     "text": [
      "[[0, 2, 30, 44, 90], [1, 5, 31, 34, 51, 66, 95], [3, 28, 38, 43, 53], [4], [6, 13, 23, 68, 73, 93], [7], [8], [9], [10, 45, 62], [11, 63, 92], [12, 75], [14], [15], [16], [17, 72, 83], [18, 21, 52, 70, 74, 99], [19], [20], [22, 87], [24], [25], [26, 27], [29, 54, 81, 85], [32], [33], [35], [36, 59], [37], [39, 55], [40], [41, 71], [42], [46, 94], [47, 56], [48, 84], [49, 79], [50, 69, 96], [57], [58], [60], [61, 78], [64], [65], [67], [76], [77, 91], [80], [82], [86], [88], [89], [97, 98]]\n",
      "[0.05, 0.07, 0.05, 0.01, 0.06, 0.01, 0.01, 0.01, 0.03, 0.03, 0.02, 0.01, 0.01, 0.01, 0.03, 0.06, 0.01, 0.01, 0.02, 0.01, 0.01, 0.02, 0.04, 0.01, 0.01, 0.01, 0.02, 0.01, 0.02, 0.01, 0.02, 0.01, 0.02, 0.02, 0.02, 0.02, 0.03, 0.01, 0.01, 0.01, 0.02, 0.01, 0.01, 0.01, 0.01, 0.02, 0.01, 0.01, 0.01, 0.01, 0.01, 0.02]\n"
     ]
    }
   ],
   "source": [
    "def crp(ap=10,num=100):\n",
    "    \"\"\"chinese restaurant process (equivalent representation of Dirichlet)\n",
    "        param: ap: alpha, its maginitude rises inversely with rich gets richer\"\"\"\n",
    "    \n",
    "#     num = 100\n",
    "#     ap = 10\n",
    "    # first customer goes to first table\n",
    "    tables = [[0]]\n",
    "    size = [1]\n",
    "    \n",
    "    for n in range(1,num):\n",
    "        # compute categorical distribution for customer assignment\n",
    "        cat = []\n",
    "        denom = n+ap #n+1-1+ap\n",
    "        for i in range(len(size)):\n",
    "            cat.append(size[i] / denom)\n",
    "        # new table probability\n",
    "        cat.append(ap / denom)\n",
    "        assert(sum(cat) - 1 < 0.0001)\n",
    "        \n",
    "        # draw next table\n",
    "        table = choice(len(cat), p=cat)\n",
    "        \n",
    "        # new table\n",
    "        if table == len(cat) - 1:\n",
    "            tables.append([n])\n",
    "            size.append(1)\n",
    "        # old table\n",
    "        else:\n",
    "            tables[table].append(n)\n",
    "            size[table] += 1\n",
    "           \n",
    "    # return support and prob\n",
    "    return np.arange(len(size)), [s/num for s in size], tables\n",
    "_,p,tables = crp(ap=50)\n",
    "plt.figure()\n",
    "plt.bar(range(len(p)), p,width=1)\n",
    "plt.show()\n",
    "print(tables)\n",
    "print(p)\n",
    "\n",
    "    "
   ]
  },
  {
   "cell_type": "code",
   "execution_count": 4,
   "metadata": {},
   "outputs": [
    {
     "name": "stdout",
     "output_type": "stream",
     "text": [
      "{3.375598110829265: [0], 1.7378223975316502: [1], -2.9167954729429777: [2, 56, 84], 0.34003381848618064: [3], 0.10125982912753795: [4], 7.774121956888677: [5, 17, 90], 4.051449335734161: [6, 7, 62], 3.199442614609845: [8], 3.517918668429122: [9, 20, 26, 63, 83, 87], 4.047202470522988: [10, 70], 3.693753494145938: [11], 8.066326662957799: [12, 74], 7.089854533805713: [13], -4.506485257740474: [14], -4.441353004601384: [15], -1.2557034163761216: [16, 21, 42, 49], 2.9387318607181867: [18, 58, 59], 2.5162627926255516: [19, 47, 61], 1.8741114719896712: [22], -0.057987405718859186: [23, 25, 28, 32, 52, 64, 75, 85], -0.2685586932455917: [24], 2.5774560946665455: [27], 2.4701279516957313: [29], 1.9645381527669876: [30, 37, 40, 45], 5.542949428322258: [31], 1.2387614822938207: [33, 71], 0.8573783304908951: [34], 1.5775637964269236: [35], 2.5263599823521568: [36], 3.1780326861118713: [38], -2.057412445838846: [39], -0.835024639448203: [41, 81], 0.7322844503604138: [43], 2.103425906637353: [44], 4.247679483089174: [46, 54], 0.5010831502015896: [48], 0.24798968420721246: [50], 1.6764155549517286: [51], -1.9481815974396763: [53], 1.1466162699684763: [55, 66], -2.219408976011052: [57], 1.1880581121862148: [60], 3.3551734715339165: [65], 7.778508580756912: [67, 97], 4.68466582093337: [68], 8.807186576212004: [69], 1.5861751674872235: [72, 88, 98], 2.9754181396474553: [73], 2.399639830907435: [76, 80], 2.4390983719555113: [77], 2.7360776954967094: [78], 7.2001751069340205: [79], 0.6758740944273132: [82], 0.6578536307581506: [86], 4.963961089155754: [89], 0.22070066707247715: [91], -0.258774244400366: [92], 3.6765218396715214: [93], -0.940923862540394: [94], 9.320851992199872: [95], 2.3859715385135742: [96], -6.010368937272286: [99]}\n"
     ]
    },
    {
     "name": "stderr",
     "output_type": "stream",
     "text": [
      "/home/drproduck/miniconda3/envs/sage/lib/python3.6/site-packages/ipykernel_launcher.py:45: MatplotlibDeprecationWarning: scipy.stats.norm.pdf\n"
     ]
    },
    {
     "data": {
      "image/png": "[encoded data removed]",
      "text/plain": [
       "<Figure size 432x288 with 1 Axes>"
      ]
     },
     "metadata": {},
     "output_type": "display_data"
    }
   ],
   "source": [
    "def DP(mu, sg, num, ap):\n",
    "    \"\"\"dirichlet process with Gaussian base distribution\"\"\"\n",
    "    tables = dict()\n",
    "    #first value drawn from G\n",
    "    nval = normal(mu,sg)\n",
    "    tables[nval] = [0]\n",
    "    \n",
    "    for n in range(1,num):\n",
    "        # compute categorical distribution for customer assignment\n",
    "        cat = []\n",
    "        denom = n+ap #n+1-1+ap\n",
    "        \n",
    "        key = []\n",
    "        for k,v in tables.items():\n",
    "            key.append(k)\n",
    "            cat.append(len(v) / denom)\n",
    "            \n",
    "        # new table probability\n",
    "        cat.append(ap / denom)\n",
    "        assert(sum(cat) - 1 < 0.0001)\n",
    "        \n",
    "        # draw from past values or draw new value from G?\n",
    "        table = choice(len(cat), p=cat)\n",
    "        \n",
    "        # new value from G\n",
    "        if table == len(cat) - 1:\n",
    "            nval = normal(mu,sg)\n",
    "            tables[nval] = [n]\n",
    "            \n",
    "        # past values\n",
    "        else:\n",
    "            tables[key[table]].append(n)\n",
    "           \n",
    "    return tables\n",
    "    \n",
    "tables = DP(2,3,100,50)\n",
    "\n",
    "print(tables)\n",
    "n = sum([len(v) for v in tables.values()])\n",
    "plt.figure()\n",
    "plt.bar(tables.keys(), [len(v)/n for v in tables.values()], width=0.1)\n",
    "sd = math.sqrt(3)\n",
    "mu = 2; sd = 3\n",
    "x = np.linspace(mu - 5*sd, mu + 5*sd, 100)\n",
    "plt.plot(x,mlab.normpdf(x, mu, sd))\n",
    "plt.show()"
   ]
  },
  {
   "cell_type": "code",
   "execution_count": 5,
   "metadata": {},
   "outputs": [
    {
     "data": {
      "text/plain": [
       "<BarContainer object of 100 artists>"
      ]
     },
     "execution_count": 5,
     "metadata": {},
     "output_type": "execute_result"
    },
    {
     "data": {
      "image/png": "[encoded data removed]",
      "text/plain": [
       "<Figure size 432x288 with 1 Axes>"
      ]
     },
     "metadata": {},
     "output_type": "display_data"
    }
   ],
   "source": [
    "# stick breaking\n",
    "def GEM(ap,K):\n",
    "    \"\"\"Griffiths-Engen-McCloskey\"\"\"\n",
    "    \n",
    "    #sample from Beta(1,ap)\n",
    "    bt = beta(1,ap,K)\n",
    "    #first sample is v_0\n",
    "    sample = [bt[0]]\n",
    "    pd = (1-bt[0])\n",
    "    for i in range(1,K):\n",
    "        sample.append(bt[i]*pd)\n",
    "        pd *= (1-bt[i])\n",
    "    return sample\n",
    "def stickBreaking(ap,K=1000):\n",
    "    \"\"\"table in N just like Chinese Restaurant\"\"\"\n",
    "    support = np.arange(K)\n",
    "    p = GEM(ap,K)\n",
    "    return np.array(support), np.array(p)\n",
    "plt.figure()\n",
    "sample = GEM(50, 100)\n",
    "plt.bar(np.cumsum(sample),0.1,width=0.001)\n",
    "\n"
   ]
  },
  {
   "cell_type": "code",
   "execution_count": 6,
   "metadata": {
    "scrolled": true
   },
   "outputs": [
    {
     "data": {
      "image/png": "[encoded data removed]",
      "text/plain": [
       "<Figure size 432x288 with 1 Axes>"
      ]
     },
     "metadata": {},
     "output_type": "display_data"
    },
    {
     "data": {
      "image/png": "[encoded data removed]",
      "text/plain": [
       "<Figure size 432x288 with 1 Axes>"
      ]
     },
     "metadata": {},
     "output_type": "display_data"
    }
   ],
   "source": [
    "smpl = normal(3,2,1000)\n",
    "plt.figure()\n",
    "plt.hist(smpl, bins=100)\n",
    "\n",
    "s = dirichlet([1,2],1000)\n",
    "\n",
    "fig = plt.figure()\n",
    "ax = fig.add_subplot(111, projection='3d')\n",
    "hist, xedges, yedges = np.histogram2d(s[:,0], s[:,1], bins=100)\n",
    "xpos, ypos = np.meshgrid(xedges[:-1] + 0.25, yedges[:-1] + 0.25)\n",
    "xpos = xpos.flatten('F')\n",
    "ypos = ypos.flatten('F')\n",
    "zpos = np.zeros_like(xpos)\n",
    "\n",
    "# Construct arrays with the dimensions for the 16 bars.\n",
    "dx = 0.5 * np.ones_like(zpos)\n",
    "dy = dx.copy()\n",
    "dz = hist.flatten()\n",
    "\n",
    "ax.bar3d(xpos, ypos, zpos, dx, dy, dz, color='b', zsort='average')\n",
    "\n",
    "plt.show()"
   ]
  },
  {
   "cell_type": "code",
   "execution_count": 7,
   "metadata": {},
   "outputs": [
    {
     "data": {
      "image/png": "[encoded data removed]",
      "text/plain": [
       "<Figure size 432x288 with 1 Axes>"
      ]
     },
     "metadata": {},
     "output_type": "display_data"
    }
   ],
   "source": [
    "def DirichletNet(ap,N):\n",
    "    \"\"\"Dirchlet Network Distribution, N is size of adj matrix\"\"\"\n",
    "    _,p,_ = crp(ap=ap,num=1000)\n",
    "    # (truncated) support size\n",
    "    sz = len(p)\n",
    "    sr = choice(sz,size=(N,2),replace=True,p=p)\n",
    "    adj = np.zeros((sz,sz), dtype=int)\n",
    "    for s,r in sr:\n",
    "        adj[s,r] += 1\n",
    "    return adj\n",
    "\n",
    "adj = DirichletNet(10,500)\n",
    "plt.figure()\n",
    "plt.imshow(adj)\n",
    "plt.show()"
   ]
  },
  {
   "cell_type": "markdown",
   "metadata": {},
   "source": [
    "## Hierachical Dirichlet"
   ]
  },
  {
   "cell_type": "code",
   "execution_count": null,
   "metadata": {},
   "outputs": [
    {
     "name": "stdout",
     "output_type": "stream",
     "text": [
      "54 54\n"
     ]
    },
    {
     "data": {
      "image/png": "[encoded data removed]",
      "text/plain": [
       "<Figure size 432x288 with 1 Axes>"
      ]
     },
     "metadata": {},
     "output_type": "display_data"
    }
   ],
   "source": [
    "def DPCat(p, ap=10, num=1000):\n",
    "    \"\"\"Dirichlet process with base Categorical distribution p\"\"\"\n",
    "    \n",
    "    # (truncated) support according to p\n",
    "    sz = len(p)\n",
    "    \n",
    "    size = dict()\n",
    "    #first value drawn from p\n",
    "    nval = choice(sz,p=p)\n",
    "    size[nval] = 1\n",
    "    \n",
    "    for n in range(1,num):\n",
    "        # compute categorical distribution for customer assignment\n",
    "        cat = []\n",
    "        denom = n+ap #n+1-1+ap\n",
    "        \n",
    "        key = []\n",
    "        for k,v in size.items():\n",
    "            key.append(k)\n",
    "            cat.append(v / denom)\n",
    "            \n",
    "        # new table probability\n",
    "        cat.append(ap / denom)\n",
    "        assert(abs(sum(cat) - 1) < 0.0001)\n",
    "        \n",
    "        # draw from past values or draw new value from P?\n",
    "        table = choice(len(cat), p=cat)\n",
    "        \n",
    "        # new value from G\n",
    "        if table == len(cat) - 1:\n",
    "            nval = choice(sz,p=p)\n",
    "            if nval in size:\n",
    "                size[nval] += 1\n",
    "            else:\n",
    "                size[nval] = 1\n",
    "            \n",
    "        # past values\n",
    "        else:\n",
    "            size[key[table]] += 1\n",
    "           \n",
    "    # convert dict to support and prob\n",
    "    return np.array(list(size.keys())), np.array([s/num for s in size.values()])\n",
    "\n",
    "def AsDirichletNet(gamma, tau,N=500):\n",
    "    \"\"\"Asymmetric Dirichlet Network Distribution having a hierachical process\"\"\"\n",
    "    \n",
    "    _,P,_ = crp(ap=gamma, num=100)\n",
    "    \n",
    "    As, Ap = DPCat(P, tau, num=100)\n",
    "    s = As[choice(len(As), size=N, p=Ap)]\n",
    "    \n",
    "    Bs, Bp = DPCat(P, tau, num=100)\n",
    "    r = Bs[choice(len(Bs), size=N, p=Bp)]\n",
    "    \n",
    "    #max of support\n",
    "    sz0 = max(As)\n",
    "    sz1 = max(Bs)\n",
    "    print(max(As), max(Bs))\n",
    "    \n",
    "    adj = np.zeros((sz0+1,sz1+1), dtype=int)\n",
    "    for ss,rr in zip(s,r):\n",
    "        adj[ss, rr] +=1  \n",
    "        \n",
    "    return adj \n",
    "adj = AsDirichletNet(50,50,1000)\n",
    "plt.imshow(adj)\n",
    "plt.show()"
   ]
  },
  {
   "cell_type": "code",
   "execution_count": 6,
   "metadata": {},
   "outputs": [
    {
     "ename": "TypeError",
     "evalue": "__init__() got multiple values for argument 'alpha'",
     "traceback": [
      "\u001b[0;31m---------------------------------------------------------------------------\u001b[0m",
      "\u001b[0;31mTypeError\u001b[0m                                 Traceback (most recent call last)",
      "\u001b[0;32m<ipython-input-6-a088e6cb649c>\u001b[0m in \u001b[0;36m<module>\u001b[0;34m()\u001b[0m\n\u001b[1;32m     13\u001b[0m \u001b[0;32mfor\u001b[0m \u001b[0mi\u001b[0m\u001b[0;34m,\u001b[0m\u001b[0mc\u001b[0m \u001b[0;32min\u001b[0m \u001b[0menumerate\u001b[0m\u001b[0;34m(\u001b[0m\u001b[0mcs\u001b[0m\u001b[0;34m)\u001b[0m\u001b[0;34m:\u001b[0m\u001b[0;34m\u001b[0m\u001b[0m\n\u001b[1;32m     14\u001b[0m     \u001b[0;32mif\u001b[0m \u001b[0mc\u001b[0m \u001b[0;32mnot\u001b[0m \u001b[0;32min\u001b[0m \u001b[0minlinks\u001b[0m\u001b[0;34m:\u001b[0m\u001b[0;34m\u001b[0m\u001b[0m\n\u001b[0;32m---> 15\u001b[0;31m         \u001b[0minlinks\u001b[0m\u001b[0;34m[\u001b[0m\u001b[0mc\u001b[0m\u001b[0;34m]\u001b[0m \u001b[0;34m=\u001b[0m \u001b[0mDirichletProcess\u001b[0m\u001b[0;34m(\u001b[0m\u001b[0mH\u001b[0m\u001b[0;34m,\u001b[0m\u001b[0malpha\u001b[0m\u001b[0;34m=\u001b[0m\u001b[0;36m1\u001b[0m\u001b[0;34m)\u001b[0m\u001b[0;34m\u001b[0m\u001b[0m\n\u001b[0m\u001b[1;32m     16\u001b[0m     \u001b[0mu\u001b[0m \u001b[0;34m=\u001b[0m \u001b[0minlinks\u001b[0m\u001b[0;34m[\u001b[0m\u001b[0mc\u001b[0m\u001b[0;34m]\u001b[0m\u001b[0;34m.\u001b[0m\u001b[0msample\u001b[0m\u001b[0;34m(\u001b[0m\u001b[0;34m)\u001b[0m\u001b[0;34m\u001b[0m\u001b[0m\n\u001b[1;32m     17\u001b[0m \u001b[0;34m\u001b[0m\u001b[0m\n",
      "\u001b[0;31mTypeError\u001b[0m: __init__() got multiple values for argument 'alpha'"
     ],
     "output_type": "error"
    }
   ],
   "source": [
    "# Mixture od Dirichlet network\n",
    "\n",
    "inlinks = dict()\n",
    "outlinks = dict()\n",
    "H = StickBreakingProcess(alpha=1)\n",
    "D = StickBreakingProcess(alpha=1)\n",
    "\n",
    "n = 500 # number of edges\n",
    "edges = np.zeros((n,2), dtype=int)\n",
    "\n",
    "cs = sorted(D.sample(500))\n",
    "\n",
    "for i,c in enumerate(cs):\n",
    "    if c not in inlinks:\n",
    "        inlinks[c] = DirichletProcess(H,alpha=1)\n",
    "    u = inlinks[c].sample()\n",
    "    \n",
    "    if d not in outlinks:\n",
    "        outlinks[c] = DirichletProcess(H,alpha=1)\n",
    "    v = outlinks[c].sample()\n",
    "   \n",
    "    edges[i,:] = [u,v]\n",
    "    \n",
    "sz0 = max(edges[:,0])\n",
    "sz1 = max(edges[:,1])\n",
    "\n",
    "adj = np.zeros((sz0+1,sz1+1), dtype=int)\n",
    "for i in range(n):\n",
    "    adj[u,v] += 1\n",
    "\n",
    "plt.imshow(adj)\n",
    "plt.show()\n",
    "    "
   ]
  },
  {
   "cell_type": "code",
   "execution_count": 5,
   "metadata": {},
   "outputs": [
    {
     "ename": "NameError",
     "evalue": "name 'crp' is not defined",
     "traceback": [
      "\u001b[0;31m---------------------------------------------------------------------------\u001b[0m",
      "\u001b[0;31mNameError\u001b[0m                                 Traceback (most recent call last)",
      "\u001b[0;32m<ipython-input-5-fcb22997b1b6>\u001b[0m in \u001b[0;36m<module>\u001b[0;34m()\u001b[0m\n\u001b[1;32m     41\u001b[0m         \u001b[0;32mreturn\u001b[0m \u001b[0madj\u001b[0m\u001b[0;34m\u001b[0m\u001b[0m\n\u001b[1;32m     42\u001b[0m \u001b[0;34m\u001b[0m\u001b[0m\n\u001b[0;32m---> 43\u001b[0;31m \u001b[0madj\u001b[0m \u001b[0;34m=\u001b[0m \u001b[0mMixDirichletNet\u001b[0m\u001b[0;34m(\u001b[0m\u001b[0;36m20\u001b[0m\u001b[0;34m,\u001b[0m\u001b[0;36m5\u001b[0m\u001b[0;34m,\u001b[0m\u001b[0;36m5\u001b[0m\u001b[0;34m,\u001b[0m\u001b[0;36m1000\u001b[0m\u001b[0;34m)\u001b[0m\u001b[0;34m\u001b[0m\u001b[0m\n\u001b[0m",
      "\u001b[0;32m<ipython-input-5-fcb22997b1b6>\u001b[0m in \u001b[0;36mMixDirichletNet\u001b[0;34m(gamma, tau, alpha, N)\u001b[0m\n\u001b[1;32m      8\u001b[0m     \u001b[0mno_clus\u001b[0m \u001b[0;34m=\u001b[0m \u001b[0mmax\u001b[0m\u001b[0;34m(\u001b[0m\u001b[0mcs\u001b[0m\u001b[0;34m)\u001b[0m \u001b[0;34m+\u001b[0m \u001b[0;36m1\u001b[0m\u001b[0;34m\u001b[0m\u001b[0m\n\u001b[1;32m      9\u001b[0m \u001b[0;34m\u001b[0m\u001b[0m\n\u001b[0;32m---> 10\u001b[0;31m     \u001b[0m_\u001b[0m\u001b[0;34m,\u001b[0m\u001b[0mP\u001b[0m\u001b[0;34m,\u001b[0m\u001b[0m_\u001b[0m \u001b[0;34m=\u001b[0m \u001b[0mcrp\u001b[0m\u001b[0;34m(\u001b[0m\u001b[0map\u001b[0m\u001b[0;34m=\u001b[0m\u001b[0mgamma\u001b[0m\u001b[0;34m,\u001b[0m \u001b[0mnum\u001b[0m\u001b[0;34m=\u001b[0m\u001b[0;36m100\u001b[0m\u001b[0;34m)\u001b[0m\u001b[0;34m\u001b[0m\u001b[0m\n\u001b[0m\u001b[1;32m     11\u001b[0m \u001b[0;34m\u001b[0m\u001b[0m\n\u001b[1;32m     12\u001b[0m     \u001b[0mA\u001b[0m \u001b[0;34m=\u001b[0m \u001b[0;34m[\u001b[0m\u001b[0;34m]\u001b[0m\u001b[0;34m\u001b[0m\u001b[0m\n",
      "\u001b[0;31mNameError\u001b[0m: name 'crp' is not defined"
     ],
     "output_type": "error"
    }
   ],
   "source": [
    "# Mixture of dirichlet network\n",
    "from Process import StickBreakingProcess\n",
    "def MixDirichletNet(gamma,tau,alpha,N=100):\n",
    "    \n",
    "    dp = StickBreakingProcess(alpha=alpha)\n",
    "    cs = dp.sample(N)\n",
    "    \n",
    "    no_clus = max(cs) + 1\n",
    "    \n",
    "    _,P,_ = crp(ap=gamma, num=100)\n",
    "\n",
    "    A = []\n",
    "    B = []\n",
    "    for i in range(no_clus):\n",
    "        \n",
    "        As, Ap = DPCat(P, tau, num=100)\n",
    "#         s = As[choice(len(As), size=N, p=Ap)]\n",
    "        A.append([As,Ap])\n",
    "\n",
    "        Bs, Bp = DPCat(P, tau, num=100)\n",
    "#         r = Bs[choice(len(Bs), size=N, p=Bp)]\n",
    "        B.append([Bs,Bp])\n",
    "\n",
    "    sn = []\n",
    "    rn = []\n",
    "    for c in cs:\n",
    "        As = A[c][0]\n",
    "        Ap = A[c][1]\n",
    "        sn.append (As[choice(len(As), p=Ap)])\n",
    "        \n",
    "        Bs = B[c][0]\n",
    "        Bp = B[c][1]\n",
    "        rn.append (Bs[choice(len(Bs), p=Bp)])\n",
    "        \n",
    "    sz0 = max(sn)+1\n",
    "    sz1 = max(rn)+1\n",
    "    adj = np.zeros((sz0,sz1), dtype=int)\n",
    "    for s,r in zip(sn,rn):\n",
    "        adj[s, r] +=1  \n",
    "\n",
    "        return adj \n",
    "    \n",
    "adj = MixDirichletNet(20,5,5,1000)\n",
    "\n"
   ]
  },
  {
   "cell_type": "code",
   "execution_count": 10,
   "metadata": {},
   "outputs": [
    {
     "name": "stdout",
     "output_type": "stream",
     "text": [
      "4.879776947176159 0.009900990099009901\n"
     ]
    },
    {
     "name": "stderr",
     "output_type": "stream",
     "text": [
      "/home/drproduck/miniconda3/envs/sage/lib/python3.6/site-packages/ipykernel_launcher.py:20: MatplotlibDeprecationWarning: scipy.stats.norm.pdf\n"
     ]
    },
    {
     "data": {
      "image/png": "[encoded data removed]",
      "text/plain": [
       "<Figure size 432x288 with 1 Axes>"
      ]
     },
     "metadata": {},
     "output_type": "display_data"
    }
   ],
   "source": [
    "# mu ~ Normal(mu_0, simga_0)\n",
    "# x ~ Normal(mu, sigma)\n",
    "\n",
    "import matplotlib.mlab as mlab\n",
    "def gaussian_mean_prior(X, sg, mu_0, sg_0):\n",
    "    N = len(X)\n",
    "    mu_h = sg*mu_0/(N*sg_0+sg) + sg_0*np.sum(X)/(N*sg_0+sg)\n",
    "    sg_h = 1 / (N/sg+1/sg_0)\n",
    "    return mu_h, sg_h\n",
    "\n",
    "X = normal(5,1,100)\n",
    "mu_h,sg_h = gaussian_mean_prior(X,1,1,1)\n",
    "\n",
    "plt.figure()\n",
    "plt.hist(X,bins=100,density=True)\n",
    "print(mu_h, sg_h)\n",
    "plt.scatter(mu_h,0,c='red')\n",
    "sigma = math.sqrt(sg_h)\n",
    "x = np.linspace(mu_h - 3*sigma, mu_h + 3*sigma, 100)\n",
    "plt.plot(x,mlab.normpdf(x, mu_h, sigma))\n",
    "plt.show()"
   ]
  },
  {
   "cell_type": "code",
   "execution_count": 54,
   "metadata": {},
   "outputs": [
    {
     "name": "stdout",
     "output_type": "stream",
     "text": [
      "100\n",
      "False\n"
     ]
    }
   ],
   "source": [
    "a = [1] + [2]\n",
    "from numpy.random import normal\n",
    "a = normal(1,1,100).flatten() + normal(2,1,100).flatten()\n",
    "print(len(a))\n",
    "\n",
    "a = [1,2,1,2,100]\n",
    "print(a == 1)\n",
    "\n"
   ]
  }
 ],
 "metadata": {
  "kernelspec": {
   "display_name": "Python 3",
   "language": "python",
   "name": "python3"
  },
  "language_info": {
   "codemirror_mode": {
    "name": "ipython",
    "version": 3
   },
   "file_extension": ".py",
   "mimetype": "text/x-python",
   "name": "python",
   "nbconvert_exporter": "python",
   "pygments_lexer": "ipython3",
   "version": "3.6.6"
  }
 },
 "nbformat": 4,
 "nbformat_minor": 2
}
